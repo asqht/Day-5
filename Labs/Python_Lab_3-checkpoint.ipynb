{
 "cells": [
  {
   "cell_type": "markdown",
   "metadata": {},
   "source": [
    "# Python_Lab_3\n"
   ]
  },
  {
   "cell_type": "markdown",
   "metadata": {},
   "source": [
    "### Task 1\n",
    "- Write a function named **'create_student_records'** that takes a list of tuples. Each tuple contains a student's name and their scores in three subjects. The function should return a list of dictionaries, where each dictionary represents a student with keys: name, subject1, subject2, subject3. Use list comprehension to create the list of dictionaries."
   ]
  },
  {
   "cell_type": "code",
   "execution_count": 11,
   "metadata": {},
   "outputs": [
    {
     "name": "stdout",
     "output_type": "stream",
     "text": [
      "Name: Saad, Subject1: 90, Subject2: 85, Subject3: 88\n",
      "Name: Omar, Subject1: 75, Subject2: 80, Subject3: 82\n",
      "Name: Hamd, Subject1: 92, Subject2: 88, Subject3: 95\n"
     ]
    }
   ],
   "source": [
    "def create_student_records(student_tuples):\n",
    "    return [\n",
    "        f\"Name: {name}, Subject1: {subj1}, Subject2: {subj2}, Subject3: {subj3}\"\n",
    "        for name, subj1, subj2, subj3 in student_tuples\n",
    "    ]\n",
    "\n",
    "# Test the function\n",
    "student_tuples = [\n",
    "    ('Saad', 90, 85, 88),\n",
    "    ('Omar', 75, 80, 82),\n",
    "    ('Hamd', 92, 88, 95)\n",
    "]\n",
    "\n",
    "student_records = create_student_records(student_tuples)\n",
    "for record in student_records:\n",
    "    print(record)"
   ]
  },
  {
   "cell_type": "markdown",
   "metadata": {},
   "source": [
    "### Task 2\n",
    "- Write a function named **'filter_and_sort_students'** that takes the list of dictionaries from Question 1 and returns a sorted list of student names who have an average score of 80 or more across all subjects. Sort the names in alphabetical order."
   ]
  },
  {
   "cell_type": "code",
   "execution_count": 15,
   "metadata": {},
   "outputs": [
    {
     "name": "stdout",
     "output_type": "stream",
     "text": [
      "['Hamd', 'Saad']\n"
     ]
    }
   ],
   "source": [
    "def filter_and_sort_students(student_records):\n",
    "    filtered_students = [\n",
    "        student['name']\n",
    "        for student in student_records\n",
    "        if (student['subject1'] + student['subject2'] + student['subject3']) / 3 >= 80\n",
    "    ]\n",
    "    return sorted(filtered_students)\n",
    "\n",
    "# Test the function\n",
    "student_records = [\n",
    "    {'name': 'Saad', 'subject1': 90, 'subject2': 85, 'subject3': 88},\n",
    "    {'name': 'Omar', 'subject1': 75, 'subject2': 80, 'subject3': 82},\n",
    "    {'name': 'Hamd', 'subject1': 92, 'subject2': 88, 'subject3': 95}\n",
    "]\n",
    "\n",
    "filtered_students = filter_and_sort_students(student_records)\n",
    "print(filtered_students)"
   ]
  },
  {
   "cell_type": "markdown",
   "metadata": {},
   "source": [
    "### Task 3\n",
    "- Write a function named **'get_product_info'** that prompts the user to enter information about a product. The function should ask for the product name, product price, and product quantity. If the user enters an invalid input (e.g., a non-numeric value for the price or quantity), the function should handle the error and prompt the user to enter the value again. Return a dictionary containing the product information."
   ]
  },
  {
   "cell_type": "code",
   "execution_count": 33,
   "metadata": {},
   "outputs": [
    {
     "name": "stdin",
     "output_type": "stream",
     "text": [
      "Enter product name:  Mercedes-Benz E 300\n",
      "Enter the product price:  90000\n",
      "Enter the product quantity:  2\n"
     ]
    },
    {
     "name": "stdout",
     "output_type": "stream",
     "text": [
      "{'product_name': 'Mercedes-Benz E 300', 'product_price': 90000.0, 'product_quantity': 2}\n"
     ]
    }
   ],
   "source": [
    "def get_product_info():\n",
    "    while True:\n",
    "        product_name = input(\"Enter product name: \")\n",
    "        \n",
    "        while True:\n",
    "            try:\n",
    "                product_price = float(input(\"Enter the product price: \"))\n",
    "                break\n",
    "            except ValueError:\n",
    "                print(\"Invalid. enter numeric value for the price.\")\n",
    "\n",
    "        while True:\n",
    "            try:\n",
    "                product_quantity = int(input(\"Enter the product quantity: \"))\n",
    "                break\n",
    "            except ValueError:\n",
    "                print(\"Invalid. enter integer value for quantity.\")\n",
    "        \n",
    "        return {\n",
    "            \"product_name\": product_name,\n",
    "            \"product_price\": product_price,\n",
    "            \"product_quantity\": product_quantity\n",
    "        }\n",
    "\n",
    "# Test the function\n",
    "product_info = get_product_info()\n",
    "print(product_info)"
   ]
  },
  {
   "cell_type": "markdown",
   "metadata": {},
   "source": [
    "### Task 4\n",
    "- Write a function named **'get_even_numbers'** that takes a list of integers and returns a list of even numbers using list comprehension."
   ]
  },
  {
   "cell_type": "code",
   "execution_count": 23,
   "metadata": {},
   "outputs": [
    {
     "name": "stdout",
     "output_type": "stream",
     "text": [
      "[2, 4, 6, 8, 10]\n"
     ]
    }
   ],
   "source": [
    "def get_even_numbers(numbers):\n",
    "    return [num for num in numbers if num % 2 == 0]\n",
    "\n",
    "# Test the function\n",
    "numbers_list = [1, 2, 3, 4, 5, 6, 7, 8, 9, 10]\n",
    "even_numbers = get_even_numbers(numbers_list)\n",
    "print(even_numbers)"
   ]
  },
  {
   "cell_type": "markdown",
   "metadata": {},
   "source": [
    "### Task 5\n",
    "- Write a function named **'pair_elements'** that takes two lists of equal length as parameters and returns a list of tuples, where each tuple contains corresponding elements from the two lists. Use the zip function to achieve this."
   ]
  },
  {
   "cell_type": "code",
   "execution_count": 27,
   "metadata": {},
   "outputs": [
    {
     "name": "stdout",
     "output_type": "stream",
     "text": [
      "Item: Apple - Price: $1.25\n",
      "Item: Banana - Price: $0.75\n",
      "Item: Orange - Price: $0.9\n",
      "Item: Grapes - Price: $2.5\n",
      "Item: Mango - Price: $1.8\n"
     ]
    }
   ],
   "source": [
    "def pair_elements(list1, list2):\n",
    "    return list(zip(list1, list2))\n",
    "\n",
    "# Test the function with sample items\n",
    "items = ['Apple', 'Banana', 'Orange', 'Grapes', 'Mango']\n",
    "prices = [1.25, 0.75, 0.90, 2.50, 1.80]\n",
    "\n",
    "paired_items_prices = pair_elements(items, prices)\n",
    "for item, price in paired_items_prices:\n",
    "    print(f\"Item: {item} - Price: ${price}\")"
   ]
  },
  {
   "cell_type": "markdown",
   "metadata": {},
   "source": [
    "### Task 6\n",
    "- Write a function named **'square_dict_lambda'** that takes a list of integers and returns a dictionary where the keys are the integers and the values are their squares. Use a lambda function within a dictionary comprehension to achieve this."
   ]
  },
  {
   "cell_type": "code",
   "execution_count": 29,
   "metadata": {},
   "outputs": [
    {
     "name": "stdout",
     "output_type": "stream",
     "text": [
      "{1: 1, 2: 4, 3: 9, 4: 16, 5: 25}\n"
     ]
    }
   ],
   "source": [
    "def square_dict_lambda(numbers):\n",
    "    return {num: (lambda x: x*x)(num) for num in numbers}\n",
    "\n",
    "# Test the function\n",
    "numbers_list = [1, 2, 3, 4, 5]\n",
    "squared_dict = square_dict_lambda(numbers_list)\n",
    "print(squared_dict)"
   ]
  }
 ],
 "metadata": {
  "kernelspec": {
   "display_name": "Python 3 (ipykernel)",
   "language": "python",
   "name": "python3"
  },
  "language_info": {
   "codemirror_mode": {
    "name": "ipython",
    "version": 3
   },
   "file_extension": ".py",
   "mimetype": "text/x-python",
   "name": "python",
   "nbconvert_exporter": "python",
   "pygments_lexer": "ipython3",
   "version": "3.12.4"
  }
 },
 "nbformat": 4,
 "nbformat_minor": 4
}
