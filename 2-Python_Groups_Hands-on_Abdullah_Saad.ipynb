{
 "cells": [
  {
   "cell_type": "markdown",
   "metadata": {
    "id": "kZXiW0-J0-2x"
   },
   "source": [
    "# Python_Groups_Hands-on\n"
   ]
  },
  {
   "cell_type": "markdown",
   "metadata": {
    "id": "I05A6_S80-2y"
   },
   "source": [
    "## Project: Library Management System\n",
    "### Description:\n",
    "- Develop a basic Library Management System (LMS) that allows users to manage book records, including adding, updating, deleting, and displaying book information. The system should also provide basic statistical analysis.\n",
    "\n",
    "### System requirements:\n",
    "\n",
    "#### Data Structure Design:\n",
    "\n",
    "  - Define data structures using lists, tuples, dictionaries, and sets to store book information (e.g., book ID, title, author, year, genres).\n",
    "\n",
    "#### Basic Operations:\n",
    "\n",
    "- Implement functions to add, update, delete, and display book records.\n",
    "- Ensure proper type conversion and validation of inputs.\n",
    "\n",
    "#### Statistical Analysis:\n",
    "\n",
    "- Write functions to calculate and display the total number of books, the average publication year, and the most common genre.\n",
    "- Use list comprehensions and built-in functions (sort, len, zip, range) for calculations.\n",
    "\n",
    "#### Advanced Features:\n",
    "\n",
    "- Implement search functionality to find books by title or author using lambda functions.\n",
    "- Provide sorting options for book records based on different criteria (e.g., title, year).\n",
    "\n",
    "\n",
    "#### Exception Handling:\n",
    "\n",
    "- Handle potential errors (e.g., invalid input) using try-except blocks."
   ]
  },
  {
   "cell_type": "markdown",
   "metadata": {
    "id": "rXuH9y0_D76o"
   },
   "source": [
    "#### Q1: Using the following table, create a function to add these books to your library:\n",
    "\n",
    "\n",
    "\n",
    "| Book ID | Title                            | Author               | Year | Genres                              |\n",
    "|---------|----------------------------------|----------------------|------|-------------------------------------|\n",
    "| 1       | Harry Potter and the Sorcerer's Stone | J.K. Rowling         | 1997 | Fantasy, Young Adult                |\n",
    "| 2       | To Kill a Mockingbird             | Harper Lee           | 1960 | Fiction, Classics                   |\n",
    "| 3       | The Great Gatsby                  | F. Scott Fitzgerald  | 1925 | Fiction, Classics                   |\n",
    "| 4       | 1984                              | George Orwell        | 1949 | Fiction, Dystopian                  |\n",
    "| 5       | The Catcher in the Rye            | J.D. Salinger        | 1951 | Fiction, Classics                   |\n",
    "| 6       | Pride and Prejudice               | Jane Austen          | 1813 | Fiction, Romance, Classics          |\n",
    "| 7       | The Hobbit                        | J.R.R. Tolkien       | 1937 | Fantasy, Adventure                  |\n",
    "| 8       | The Hunger Games                  | Suzanne Collins      | 2008 | Science Fiction, Dystopian, Young Adult |\n",
    "| 9       | The Da Vinci Code                 | Dan Brown            | 2003 | Mystery, Thriller                   |\n",
    "| 10      | The Chronicles of Narnia          | C.S. Lewis           | 1950 | Fantasy, Children's Literature      |\n",
    "| 11      | Gone with the Wind                | Margaret Mitchell    | 1936 | Historical Fiction, Romance         |\n",
    "| 12      | Sapiens: A Brief History of Humankind | Yuval Noah Harari   | 2011 | Nonfiction, History, Science        |\n",
    "| 13      | The Road                          | Cormac McCarthy      | 2006 | Fiction, Post-Apocalyptic           |\n",
    "| 14      | The Girl with the Dragon Tattoo   | Stieg Larsson        | 2005 | Mystery, Thriller                   |\n",
    "| 15      | The Alchemist                     | Paulo Coelho         | 1988 | Fiction, Inspirational              |\n"
   ]
  },
  {
   "cell_type": "code",
   "execution_count": 30,
   "metadata": {
    "id": "BzV_B_g20-2z"
   },
   "outputs": [
    {
     "name": "stdout",
     "output_type": "stream",
     "text": [
      "To Kill a Mockingbird\n"
     ]
    }
   ],
   "source": [
    "#Q1\n",
    "#emmpty dict\n",
    "library = {\n",
    "}\n",
    "    \n",
    "\n",
    "def add_book(book_id, title, author, year, genres):\n",
    "    library[book_id] = {\n",
    "        \"title\": title,\n",
    "        \"author\": author,\n",
    "        \"year\": year,\n",
    "        \"genres\": genres\n",
    "    }\n",
    "# Adding books to the library\n",
    "add_book(1, \"Harry Potter and the Sorcerer's Stone\", \"J.K. Rowling\", 1997, [\"Fantasy\", \"Young Adult\"])\n",
    "add_book(2, \"To Kill a Mockingbird\", \"J.K. Rowling\", 1960, [\"Fiction\", \"Classics\"])\n",
    "add_book(3, \"The Great Gatsby\", \"F. Scott Fitzgerald\", 1925, [\"Fiction\", \"Classics\"])\n",
    "add_book(4, \"1984\", \"George Orwell\", 1949, [\"Fiction\", \"Dystopian\"])\n",
    "add_book(5, \"The Catcher in the Rye\", \"J.D. Salinger\", 1951, [\"Fiction\", \"Classics\"])\n",
    "add_book(6, \"Pride and Prejudice\", \"Jane Austen\", 1813, [\"Fiction\", \"Romance\", \"Classics\"])\n",
    "add_book(7, \"The Hobbit\", \"J.R.R. Tolkien\", 1937, [\"Fantasy\", \"Adventure\"])\n",
    "add_book(8, \"The Hunger Games\", \"Suzanne Collins\", 2008, [\"Science Fiction\", \"Dystopian\", \"Young Adult\"])\n",
    "add_book(9, \"The Da Vinci Code\", \"Dan Brown\", 2003, [\"Mystery\", \"Thriller\"])\n",
    "add_book(10, \"The Chronicles of Narnia\", \"C.S. Lewis\", 1950, [\"Fantasy\", \"Children's Literature\"])\n",
    "add_book(11, \"Gone with the Wind\", \"Margaret Mitchell\", 1936, [\"Historical Fiction\", \"Romance\"])\n",
    "add_book(12, \"Sapiens: A Brief History of Humankind\", \"Yuval Noah Harari\", 2011, [\"Nonfiction\", \"History\", \"Science\"])\n",
    "add_book(13, \"The Road\", \"Cormac McCarthy\", 2006, [\"Fiction\", \"Post-Apocalyptic\"])\n",
    "add_book(14, \"The Girl with the Dragon Tattoo\", \"Stieg Larsson\", 2005, [\"Mystery\", \"Thriller\"])\n",
    "add_book(15, \"The Alchemist\", \"Paulo Coelho\", 1988, [\"Fiction\", \"Inspirational\"])\n",
    "\n",
    "\n",
    "print(library[2]['title'])  "
   ]
  },
  {
   "cell_type": "markdown",
   "metadata": {
    "id": "kR5bvgOsF3oJ"
   },
   "source": [
    "#### Q2: Create a function that updates books exsisted in your library and test it.\n",
    "- **Note**: If the user entered wrong book ID it should print \"Book with ID 'num' does not exist."
   ]
  },
  {
   "cell_type": "code",
   "execution_count": 34,
   "metadata": {
    "id": "U60cFkbUUYmj"
   },
   "outputs": [
    {
     "name": "stdout",
     "output_type": "stream",
     "text": [
      "book with id 3 has been updated\n"
     ]
    }
   ],
   "source": [
    "#Q2\n",
    "\n",
    "def updateBook(id,t,a,y,g):\n",
    "    if id not in library.keys():\n",
    "        print(f'Sorry book with id {id} dose not exist!')\n",
    "    else:\n",
    "      library[id] ={\n",
    "        \"title\": t,\n",
    "        \"author\": a,\n",
    "        \"year\": y,\n",
    "        \"genres\": g\n",
    "      } \n",
    "      print(f'book with id {id} has been updated')\n",
    "        \n",
    "\n",
    "updateBook(3,'v','g',55,['x','y'])\n"
   ]
  },
  {
   "cell_type": "markdown",
   "metadata": {
    "id": "ME3j_m-eLhyH"
   },
   "source": [
    "#### Q3: Create a function to delete books from your library and test it."
   ]
  },
  {
   "cell_type": "code",
   "execution_count": null,
   "metadata": {},
   "outputs": [],
   "source": [
    "def deleteBook(id):\n",
    "  del library[id]\n",
    "      \n",
    "\n",
    "deleteBook(6)\n"
   ]
  },
  {
   "cell_type": "markdown",
   "metadata": {
    "id": "MIamnChwNgFr"
   },
   "source": [
    "#### Q4: Create a function that displays books information from your library and test it."
   ]
  },
  {
   "cell_type": "code",
   "execution_count": 36,
   "metadata": {
    "id": "xFNIK3YvUbz5"
   },
   "outputs": [
    {
     "name": "stdout",
     "output_type": "stream",
     "text": [
      "Book ID: 1 | Title: Harry Potter and the Sorcerer's Stone | Author: J.K. Rowling | Year: 1997 | Genres: Fantasy, Young Adult \n",
      "\n",
      "Book ID: 2 | Title: v | Author: g | Year: 55 | Genres: x, y \n",
      "\n",
      "Book ID: 3 | Title: v | Author: g | Year: 55 | Genres: x, y \n",
      "\n",
      "Book ID: 4 | Title: 1984 | Author: George Orwell | Year: 1949 | Genres: Fiction, Dystopian \n",
      "\n",
      "Book ID: 5 | Title: The Catcher in the Rye | Author: J.D. Salinger | Year: 1951 | Genres: Fiction, Classics \n",
      "\n",
      "Book ID: 6 | Title: Pride and Prejudice | Author: Jane Austen | Year: 1813 | Genres: Fiction, Romance, Classics \n",
      "\n",
      "Book ID: 7 | Title: The Hobbit | Author: J.R.R. Tolkien | Year: 1937 | Genres: Fantasy, Adventure \n",
      "\n",
      "Book ID: 8 | Title: The Hunger Games | Author: Suzanne Collins | Year: 2008 | Genres: Science Fiction, Dystopian, Young Adult \n",
      "\n",
      "Book ID: 9 | Title: The Da Vinci Code | Author: Dan Brown | Year: 2003 | Genres: Mystery, Thriller \n",
      "\n",
      "Book ID: 10 | Title: The Chronicles of Narnia | Author: C.S. Lewis | Year: 1950 | Genres: Fantasy, Children's Literature \n",
      "\n",
      "Book ID: 11 | Title: Gone with the Wind | Author: Margaret Mitchell | Year: 1936 | Genres: Historical Fiction, Romance \n",
      "\n",
      "Book ID: 12 | Title: Sapiens: A Brief History of Humankind | Author: Yuval Noah Harari | Year: 2011 | Genres: Nonfiction, History, Science \n",
      "\n",
      "Book ID: 13 | Title: The Road | Author: Cormac McCarthy | Year: 2006 | Genres: Fiction, Post-Apocalyptic \n",
      "\n",
      "Book ID: 14 | Title: The Girl with the Dragon Tattoo | Author: Stieg Larsson | Year: 2005 | Genres: Mystery, Thriller \n",
      "\n",
      "Book ID: 15 | Title: The Alchemist | Author: Paulo Coelho | Year: 1988 | Genres: Fiction, Inspirational \n",
      "\n"
     ]
    }
   ],
   "source": [
    "#Q4\n",
    "def print_library_contents():\n",
    "    for book_id, book_info in library.items():\n",
    "        print(f\"Book ID: {book_id} | Title: {book_info['title']} | Author: {book_info['author']} | Year: {book_info['year']} | Genres: {', '.join(book_info['genres'])} \")\n",
    "\n",
    "        print()\n",
    "\n",
    "print_library_contents()"
   ]
  },
  {
   "cell_type": "markdown",
   "metadata": {
    "id": "OvfdKdBqNt22"
   },
   "source": [
    "#### Q5: Create functions to do the following: calculates and display the total number of books, the average publication year, and the most common genre. and test it."
   ]
  },
  {
   "cell_type": "code",
   "execution_count": 46,
   "metadata": {
    "id": "mWg5eHIWUcsU"
   },
   "outputs": [
    {
     "data": {
      "text/plain": [
       "1710.9333333333334"
      ]
     },
     "execution_count": 46,
     "metadata": {},
     "output_type": "execute_result"
    }
   ],
   "source": [
    "#Q5\n",
    "\n",
    "def libLength(lib):\n",
    "    print(f'total number of book is: {len(lib)}')\n",
    "\n",
    "\n",
    "def libAvg(lib: dict):\n",
    "    years = 0\n",
    "    count = 0\n",
    "    for i, k in lib.items():\n",
    "        years += lib[i]['year']\n",
    "        count += 1\n",
    "    return years / count\n",
    "\n",
    "\n",
    "libAvg(library)\n",
    "\n"
   ]
  },
  {
   "cell_type": "code",
   "execution_count": 42,
   "metadata": {},
   "outputs": [
    {
     "name": "stdout",
     "output_type": "stream",
     "text": [
      "['Fantasy', 'Young Adult', 'x', 'y', 'x', 'y', 'Fiction', 'Dystopian', 'Fiction', 'Classics', 'Fiction', 'Romance', 'Classics', 'Fantasy', 'Adventure', 'Science Fiction', 'Dystopian', 'Young Adult', 'Mystery', 'Thriller', 'Fantasy', \"Children's Literature\", 'Historical Fiction', 'Romance', 'Nonfiction', 'History', 'Science', 'Fiction', 'Post-Apocalyptic', 'Mystery', 'Thriller', 'Fiction', 'Inspirational']\n"
     ]
    }
   ],
   "source": [
    "def mostCommon(lib:dict):\n",
    "    allGenra = []\n",
    "    for book in lib.values():\n",
    "      for g in book['genres']:\n",
    "        allGenra.append(g)\n",
    "        \n",
    "           #else:\n",
    "    print(allGenra)\n",
    "    #count['genra'] += 1\n",
    "\n",
    "            \n",
    "mostCommon(library)\n",
    "\n"
   ]
  },
  {
   "cell_type": "code",
   "execution_count": 52,
   "metadata": {},
   "outputs": [
    {
     "name": "stdout",
     "output_type": "stream",
     "text": [
      "The most common genre is: Fiction\n"
     ]
    },
    {
     "data": {
      "text/plain": [
       "'Fiction'"
      ]
     },
     "execution_count": 52,
     "metadata": {},
     "output_type": "execute_result"
    }
   ],
   "source": [
    "def most_common_genre(library):\n",
    "    genre_count = {}\n",
    "\n",
    "    for book_id in library:\n",
    "        genres = library[book_id]['genres']\n",
    "        for genre in genres:\n",
    "            if genre in genre_count:\n",
    "                genre_count[genre] += 1\n",
    "            else:\n",
    "                genre_count[genre] = 1\n",
    "\n",
    "    most_common_genre = max(genre_count, key=genre_count.get)\n",
    "\n",
    "    print(\"The most common genre is:\", most_common_genre)\n",
    "    return most_common_genre\n",
    "\n",
    "# Function to add a book to the library dictionary\n",
    "def add_book(book_id, title, author, year, genres):\n",
    "    library[book_id] = {\n",
    "        \"title\": title,\n",
    "        \"author\": author,\n",
    "        \"year\": year,\n",
    "        \"genres\": genres\n",
    "    }\n",
    "\n",
    "most_common_genre(library)\n"
   ]
  },
  {
   "cell_type": "markdown",
   "metadata": {
    "id": "IuVLtf7dQaUW"
   },
   "source": [
    "#### Q6: Create 2 functions to search for books by the title and the author from your library and test it."
   ]
  },
  {
   "cell_type": "code",
   "execution_count": 57,
   "metadata": {
    "id": "7LnwRJLCUe3p"
   },
   "outputs": [
    {
     "name": "stdout",
     "output_type": "stream",
     "text": [
      "Books matching the title 'Harry Potter':\n",
      "Harry Potter and the Sorcerer's Stone by J.K. Rowling\n",
      "Books by 'J.K. Rowling':\n",
      "Harry Potter and the Sorcerer's Stone by J.K. Rowling\n",
      "To Kill a Mockingbird by J.K. Rowling\n"
     ]
    }
   ],
   "source": [
    "#1\n",
    "def search_books_by_title(search_title):\n",
    "    titleList = [book_info for book_info in libraey.values() if search_title.lower() in book_info['title'].lower()]\n",
    "    print(f\"Books matching the title '{search_title}':\")\n",
    "    for book in titleList:\n",
    "        print(f\"{book['title']} by {book['author']}\")\n",
    "\n",
    "#3\n",
    "def search_books_by_author(search_author):\n",
    "    authorList = [book_info for book_info in libraey.values() if search_author.lower() in book_info['author'].lower()]\n",
    "    print(f\"Books by '{search_author}':\")\n",
    "    for book in authorList:\n",
    "        print(f\"{book['title']} by {book['author']}\")\n",
    "\n",
    "#example\n",
    "search_title = \"Harry Potter\"\n",
    "search_books_by_title(search_title)\n",
    "\n",
    "# example\n",
    "search_author = \"J.K. Rowling\"\n",
    "search_books_by_author(search_author)"
   ]
  },
  {
   "cell_type": "markdown",
   "metadata": {
    "id": "fAu2ozKBQzJu"
   },
   "source": [
    "#### Q7: Create 2 functions to sort the books by the title and the year from your library and test it."
   ]
  },
  {
   "cell_type": "code",
   "execution_count": 54,
   "metadata": {
    "id": "X4PyuHTMUgHl"
   },
   "outputs": [
    {
     "name": "stdout",
     "output_type": "stream",
     "text": [
      "Books sorted by title:\n",
      "1984\n",
      "Gone with the Wind\n",
      "Harry Potter and the Sorcerer's Stone\n",
      "Pride and Prejudice\n",
      "Sapiens: A Brief History of Humankind\n",
      "The Alchemist\n",
      "The Catcher in the Rye\n",
      "The Chronicles of Narnia\n",
      "The Da Vinci Code\n",
      "The Girl with the Dragon Tattoo\n",
      "The Great Gatsby\n",
      "The Hobbit\n",
      "The Hunger Games\n",
      "The Road\n",
      "v\n",
      "\n",
      "\n",
      "Books sorted by year:\n",
      "v \n",
      "Pride and Prejudice \n",
      "The Great Gatsby \n",
      "Gone with the Wind \n",
      "The Hobbit \n",
      "1984 \n",
      "The Chronicles of Narnia \n",
      "The Catcher in the Rye \n",
      "The Alchemist \n",
      "Harry Potter and the Sorcerer's Stone \n",
      "The Da Vinci Code \n",
      "The Girl with the Dragon Tattoo \n",
      "The Road \n",
      "The Hunger Games \n",
      "Sapiens: A Brief History of Humankind \n"
     ]
    }
   ],
   "source": [
    "# write your code here ^_^\n",
    "#Q7\n",
    "def sort_books_by_title(library):\n",
    "    sorted_books = sorted(library.values(), key=lambda x: x['title'])\n",
    "    print(\"Books sorted by title:\")\n",
    "    for book in sorted_books:\n",
    "        print(f\"{book['title']}\")\n",
    "\n",
    "def sort_books_by_year(library):\n",
    "    sorted_books = sorted(library.values(), key=lambda x: x['year'])\n",
    "    print(\"\\nBooks sorted by year:\")\n",
    "    for book in sorted_books:\n",
    "        print(f\"{book['title']} \")\n",
    "\n",
    "sort_books_by_title(libraey)\n",
    "print()\n",
    "sort_books_by_year(libraey)"
   ]
  },
  {
   "cell_type": "markdown",
   "metadata": {
    "id": "KiaFO8rdiv4u"
   },
   "source": [
    "#### Q8: Create a function to bulk update genres of books using list comprehension. and test it."
   ]
  },
  {
   "cell_type": "code",
   "execution_count": 56,
   "metadata": {
    "id": "AbvXyE96UhVt"
   },
   "outputs": [
    {
     "name": "stdout",
     "output_type": "stream",
     "text": [
      "{1: {'title': \"Harry Potter and the Sorcerer's Stone\", 'author': 'J.K. Rowling', 'year': 1997, 'genres': ['Fantasy', 'Young Adult']}, 2: {'title': 'v', 'author': 'g', 'year': 55, 'genres': ['x', 'y']}, 3: {'title': 'v', 'author': 'g', 'year': 55, 'genres': ['x', 'y']}, 4: {'title': '1984', 'author': 'George Orwell', 'year': 1949, 'genres': ['NewF', 'Dystopian']}, 5: {'title': 'The Catcher in the Rye', 'author': 'J.D. Salinger', 'year': 1951, 'genres': ['NewF', 'Classics']}, 6: {'title': 'Pride and Prejudice', 'author': 'Jane Austen', 'year': 1813, 'genres': ['NewF', 'Romance', 'Classics']}, 7: {'title': 'The Hobbit', 'author': 'J.R.R. Tolkien', 'year': 1937, 'genres': ['Fantasy', 'Adventure']}, 8: {'title': 'The Hunger Games', 'author': 'Suzanne Collins', 'year': 2008, 'genres': ['Science Fiction', 'Dystopian', 'Young Adult']}, 9: {'title': 'The Da Vinci Code', 'author': 'Dan Brown', 'year': 2003, 'genres': ['Mystery', 'Thriller']}, 10: {'title': 'The Chronicles of Narnia', 'author': 'C.S. Lewis', 'year': 1950, 'genres': ['Fantasy', \"Children's Literature\"]}, 11: {'title': 'Gone with the Wind', 'author': 'Margaret Mitchell', 'year': 1936, 'genres': ['Historical Fiction', 'Romance']}, 12: {'title': 'Sapiens: A Brief History of Humankind', 'author': 'Yuval Noah Harari', 'year': 2011, 'genres': ['Nonfiction', 'History', 'Science']}, 13: {'title': 'The Road', 'author': 'Cormac McCarthy', 'year': 2006, 'genres': ['NewF', 'Post-Apocalyptic']}, 14: {'title': 'The Girl with the Dragon Tattoo', 'author': 'Stieg Larsson', 'year': 2005, 'genres': ['Mystery', 'Thriller']}, 15: {'title': 'The Alchemist', 'author': 'Paulo Coelho', 'year': 1988, 'genres': ['NewF', 'Inspirational']}}\n"
     ]
    }
   ],
   "source": [
    "#Q8\n",
    "\n",
    "def updateB(oldG,newG):\n",
    "    for book in library.values():\n",
    "       book['genres'] = [\n",
    "           newG if genra == oldG else genra for genra in book['genres']]\n",
    "\n",
    "updateB('Fiction','NewF')  \n",
    "print(library)    \n",
    "    "
   ]
  },
  {
   "cell_type": "markdown",
   "metadata": {
    "id": "ZWkmOUNgi6V_"
   },
   "source": [
    "#### Q9: Implement a function to generate a report summarizing the library's statistics, including the total number of books, the number of books by each author, the number of books in each genre, and the oldest and newest books. and test it."
   ]
  },
  {
   "cell_type": "code",
   "execution_count": 58,
   "metadata": {
    "id": "Okjlb9pTUloe"
   },
   "outputs": [
    {
     "name": "stdout",
     "output_type": "stream",
     "text": [
      "Library Statistics Report:\n",
      "Total number of books: 15\n",
      "\n",
      "Number of books by each author:\n",
      "J.K. Rowling: 1 books\n",
      "g: 2 books\n",
      "George Orwell: 1 books\n",
      "J.D. Salinger: 1 books\n",
      "Jane Austen: 1 books\n",
      "J.R.R. Tolkien: 1 books\n",
      "Suzanne Collins: 1 books\n",
      "Dan Brown: 1 books\n",
      "C.S. Lewis: 1 books\n",
      "Margaret Mitchell: 1 books\n",
      "Yuval Noah Harari: 1 books\n",
      "Cormac McCarthy: 1 books\n",
      "Stieg Larsson: 1 books\n",
      "Paulo Coelho: 1 books\n",
      "\n",
      "Number of books in each genre:\n",
      "Fantasy: 3 books\n",
      "Young Adult: 2 books\n",
      "x: 2 books\n",
      "y: 2 books\n",
      "NewF: 5 books\n",
      "Dystopian: 2 books\n",
      "Classics: 2 books\n",
      "Romance: 2 books\n",
      "Adventure: 1 books\n",
      "Science Fiction: 1 books\n",
      "Mystery: 2 books\n",
      "Thriller: 2 books\n",
      "Children's Literature: 1 books\n",
      "Historical Fiction: 1 books\n",
      "Nonfiction: 1 books\n",
      "History: 1 books\n",
      "Science: 1 books\n",
      "Post-Apocalyptic: 1 books\n",
      "Inspirational: 1 books\n",
      "\n",
      "Oldest book: v by g (55)\n",
      "Newest book: Sapiens: A Brief History of Humankind by Yuval Noah Harari (2011)\n"
     ]
    }
   ],
   "source": [
    "#Q9\n",
    "from collections import Counter\n",
    "\n",
    "def generate_library_report(library):\n",
    "    # Total number of books\n",
    "    total_books = len(library)\n",
    "\n",
    "    # Number of books by each author\n",
    "    author_counter = Counter([book_info['author'] for book_info in library.values()])\n",
    "\n",
    "    # Number of books in each genre\n",
    "    genre_counter = Counter([genre for book_info in library.values() for genre in book_info['genres']])\n",
    "\n",
    "    # Oldest and newest books\n",
    "    oldest_book = min(library.values(), key=lambda x: x['year'])\n",
    "    newest_book = max(library.values(), key=lambda x: x['year'])\n",
    "\n",
    "    # Printing the report\n",
    "    print(\"Library Statistics Report:\")\n",
    "    print(f\"Total number of books: {total_books}\")\n",
    "    print(\"\\nNumber of books by each author:\")\n",
    "    for author, count in author_counter.items():\n",
    "        print(f\"{author}: {count} books\")\n",
    "    print(\"\\nNumber of books in each genre:\")\n",
    "    for genre, count in genre_counter.items():\n",
    "        print(f\"{genre}: {count} books\")\n",
    "    print(f\"\\nOldest book: {oldest_book['title']} by {oldest_book['author']} ({oldest_book['year']})\")\n",
    "    print(f\"Newest book: {newest_book['title']} by {newest_book['author']} ({newest_book['year']})\")\n",
    "\n",
    "# Test the function\n",
    "generate_library_report(library)"
   ]
  },
  {
   "cell_type": "code",
   "execution_count": null,
   "metadata": {},
   "outputs": [],
   "source": []
  }
 ],
 "metadata": {
  "colab": {
   "provenance": []
  },
  "kernelspec": {
   "display_name": "Python 3 (ipykernel)",
   "language": "python",
   "name": "python3"
  },
  "language_info": {
   "codemirror_mode": {
    "name": "ipython",
    "version": 3
   },
   "file_extension": ".py",
   "mimetype": "text/x-python",
   "name": "python",
   "nbconvert_exporter": "python",
   "pygments_lexer": "ipython3",
   "version": "3.12.4"
  }
 },
 "nbformat": 4,
 "nbformat_minor": 4
}
